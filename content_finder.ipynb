{
 "cells": [
  {
   "cell_type": "code",
   "execution_count": 55,
   "id": "25a0c09d-878b-4f1b-bc70-7eed769778d2",
   "metadata": {},
   "outputs": [],
   "source": [
    "import os\n",
    "import openai\n",
    "import sys\n",
    "from langchain.document_loaders import PyPDFLoader\n",
    "from langchain.document_loaders import PyPDFDirectoryLoader\n",
    "from langchain.text_splitter import RecursiveCharacterTextSplitter\n",
    "from langchain.embeddings.openai import OpenAIEmbeddings\n",
    "from langchain.vectorstores import Chroma\n",
    "from langchain.chains import RetrievalQA\n",
    "from langchain.chat_models import ChatOpenAI\n",
    "from langchain.prompts import PromptTemplate\n",
    "import yaml"
   ]
  },
  {
   "cell_type": "code",
   "execution_count": 58,
   "id": "9b8cca22-8bff-4fc6-9729-bb09d484af12",
   "metadata": {},
   "outputs": [],
   "source": [
    "# config.yml file contains OPENAI_API_KEY: \"Your OPENAI API KEY\"\n",
    "with open('config.yml', 'r') as file:\n",
    "    config = yaml.safe_load(file)\n",
    "OPENAI_API_KEY=config['OPENAI_API_KEY']"
   ]
  },
  {
   "cell_type": "code",
   "execution_count": 60,
   "id": "79b0a174-3e63-441c-86ba-4c28a925ab8c",
   "metadata": {},
   "outputs": [],
   "source": [
    "# Upload your pdf files to the folder called pdfs\n",
    "pdf_folder_path = 'pdfs/'\n",
    "loader = PyPDFDirectoryLoader(pdf_folder_path)\n",
    "pages = loader.load()"
   ]
  },
  {
   "cell_type": "code",
   "execution_count": 61,
   "id": "1b22dbd3-2bb4-4ec2-a640-a451cf615082",
   "metadata": {},
   "outputs": [
    {
     "name": "stdout",
     "output_type": "stream",
     "text": [
      "page_content='Concrete scenario generation with\\na focus on edge cases for the safety\\nassessment of highly automated\\nvehicles\\nDhanoop Karunakaran\\nA thesis submitted in fulfilment\\nof the requirements of the degree of\\nDoctor of Philosophy\\nAustralian Centre for Field Robotics\\nSchool of Aerospace, Mechanical and Mechatronic Engineering\\nThe University of Sydney\\nSeptember 2022' metadata={'source': 'pdfs/Thesis_modified.pdf', 'page': 0}\n"
     ]
    }
   ],
   "source": [
    "print(pages[0])"
   ]
  },
  {
   "cell_type": "code",
   "execution_count": null,
   "id": "43183d53-2fb4-4cb2-b3c6-17dbcc10590d",
   "metadata": {},
   "outputs": [],
   "source": []
  },
  {
   "cell_type": "code",
   "execution_count": 62,
   "id": "5966c808-5115-448c-aa2e-75d93f63e3b0",
   "metadata": {},
   "outputs": [],
   "source": [
    "r_splitter = RecursiveCharacterTextSplitter(\n",
    "    chunk_size=450,\n",
    "    chunk_overlap=0, \n",
    "    separators=[\"\\n\\n\", \"\\n\", \" \", \"\"]\n",
    ")\n",
    "splits = r_splitter.split_documents(pages)"
   ]
  },
  {
   "cell_type": "code",
   "execution_count": 63,
   "id": "eb17fc68-9e94-4338-bb7b-562c100ecdc3",
   "metadata": {},
   "outputs": [],
   "source": [
    "\n",
    "embedding = OpenAIEmbeddings(openai_api_key=OPENAI_API_KEY)\n",
    "persist_directory = 'docs/chroma/'\n",
    "!rm -rf ./docs/chroma \n",
    "vectordb = Chroma.from_documents(\n",
    "    documents=splits,\n",
    "    embedding=embedding,\n",
    "    persist_directory=persist_directory\n",
    ")"
   ]
  },
  {
   "cell_type": "code",
   "execution_count": 64,
   "id": "08d5519b-4cca-4b7c-a1eb-61076895a606",
   "metadata": {},
   "outputs": [
    {
     "name": "stdout",
     "output_type": "stream",
     "text": [
      "622\n"
     ]
    }
   ],
   "source": [
    "print(vectordb._collection.count())"
   ]
  },
  {
   "cell_type": "code",
   "execution_count": 47,
   "id": "21ee9b25-5c1f-4df8-b64f-7690105ae8cc",
   "metadata": {},
   "outputs": [],
   "source": [
    "# Similarity search\n",
    "question = \"statistical validation\"\n",
    "docs = vectordb.similarity_search(question,k=3)\n",
    "vectordb.persist()"
   ]
  },
  {
   "cell_type": "code",
   "execution_count": 48,
   "id": "8ae93cd0-cf34-4bb7-a50c-740cc0909ed4",
   "metadata": {},
   "outputs": [
    {
     "name": "stdout",
     "output_type": "stream",
     "text": [
      "{'page': 34, 'source': 'pdfs/Thesis_modified.pdf'}\n",
      "{'page': 36, 'source': 'pdfs/Thesis_modified.pdf'}\n",
      "{'page': 96, 'source': 'pdfs/Thesis_modified.pdf'}\n"
     ]
    }
   ],
   "source": [
    "for d in docs:\n",
    "    print(d.metadata)"
   ]
  },
  {
   "cell_type": "code",
   "execution_count": 49,
   "id": "e7199a6a-9c39-445e-ae66-e114ff6136ef",
   "metadata": {},
   "outputs": [],
   "source": [
    "llm_name = \"gpt-3.5-turbo\"\n",
    "llm = ChatOpenAI(model_name=llm_name, temperature=0,openai_api_key=OPENAI_API_KEY)\n",
    "qa_chain = RetrievalQA.from_chain_type(\n",
    "    llm,\n",
    "    retriever=vectordb.as_retriever()\n",
    ")\n",
    "result = qa_chain({\"query\": question})"
   ]
  },
  {
   "cell_type": "code",
   "execution_count": 50,
   "id": "15db500e-807b-4c16-ac52-b39639ea81e2",
   "metadata": {},
   "outputs": [],
   "source": [
    "# Build prompt\n",
    "template = \"\"\"Use the following pieces of context to answer the question at the end. If you don't know the answer, just say that you don't know, don't try to make up an answer. Use three sentences maximum. Keep the answer as concise as possible. Always say \"thanks for asking!\" at the end of the answer. \n",
    "{context}\n",
    "Question: {question}\n",
    "Helpful Answer:\"\"\"\n",
    "QA_CHAIN_PROMPT = PromptTemplate.from_template(template)\n"
   ]
  },
  {
   "cell_type": "code",
   "execution_count": 51,
   "id": "5a7c92b1-2ab9-4840-8c5b-aede6ef4aba0",
   "metadata": {},
   "outputs": [],
   "source": [
    "# Run chain\n",
    "qa_chain = RetrievalQA.from_chain_type(\n",
    "    llm,\n",
    "    retriever=vectordb.as_retriever(),\n",
    "    return_source_documents=True,\n",
    "    chain_type_kwargs={\"prompt\": QA_CHAIN_PROMPT}\n",
    ")"
   ]
  },
  {
   "cell_type": "code",
   "execution_count": 52,
   "id": "6a323bb8-8cc1-4d54-a5a3-ca8e37f314aa",
   "metadata": {},
   "outputs": [
    {
     "name": "stderr",
     "output_type": "stream",
     "text": [
      "Retrying langchain.embeddings.openai.embed_with_retry.<locals>._embed_with_retry in 4.0 seconds as it raised RateLimitError: Rate limit reached for default-text-embedding-ada-002 in organization org-601xRLK4Z6lPYj59gNmPAwSP on requests per min. Limit: 3 / min. Please try again in 20s. Contact us through our help center at help.openai.com if you continue to have issues. Please add a payment method to your account to increase your rate limit. Visit https://platform.openai.com/account/billing to add a payment method..\n",
      "Retrying langchain.embeddings.openai.embed_with_retry.<locals>._embed_with_retry in 4.0 seconds as it raised RateLimitError: Rate limit reached for default-text-embedding-ada-002 in organization org-601xRLK4Z6lPYj59gNmPAwSP on requests per min. Limit: 3 / min. Please try again in 20s. Contact us through our help center at help.openai.com if you continue to have issues. Please add a payment method to your account to increase your rate limit. Visit https://platform.openai.com/account/billing to add a payment method..\n"
     ]
    }
   ],
   "source": [
    "question = \"Is probability a class topic?\"\n",
    "result = qa_chain({\"query\": question})"
   ]
  },
  {
   "cell_type": "code",
   "execution_count": 53,
   "id": "96f92054-cc56-4b04-b4a7-dcf82e7079cd",
   "metadata": {},
   "outputs": [
    {
     "name": "stdout",
     "output_type": "stream",
     "text": [
      "{'query': 'Is probability a class topic?', 'result': 'Probability is likely a class topic, as it is mentioned in the context in relation to calculating the probability of system satisfaction and finding the probability of success scenarios. Thanks for asking!', 'source_documents': [Document(page_content='phase, we validate with more challenging scenarios. Statistical characteristics of the\\nsystem behaviour are computed by finding the probability of the system satisfying the\\nspecifications. We calculate the probability by dividing the total number of success\\nscenarios by the total sum of scenarios, as shown below:\\npr=Successscenarios\\nTotalscenarios(4.7)\\nFailure scenarios with maximum reward are most likely high-risk cases. We argue', metadata={'page': 75, 'source': 'pdfs/Thesis_modified.pdf'}), Document(page_content='experiment based on the multivariate normal parameter space gives a significantly\\nhigher likelihood of existing within the real-world data ( e−17), though still far lower\\nthan the multivariate, multimodal distribution which has the highest likelihood value', metadata={'page': 122, 'source': 'pdfs/Thesis_modified.pdf'}), Document(page_content='distribution. For the second experiment, kernel density estimation is used to fit a\\nmultivariate normal distribution incorporating the correlations between the different\\nvariables. The third and final experiment uses a multimodal, multivariate distribu-\\ntion to describe the parameters in the dataset. We use these distributions to build\\nthe parameter space to generate and find new high-risk scenarios.', metadata={'page': 120, 'source': 'pdfs/Thesis_modified.pdf'}), Document(page_content='machine learning and probabilistic algorithms that produce high uncertainty [Fisher\\netal., 2021]. So, itisunclearhowthecertificationcouldbepossiblefortheseadvanced\\nsystems [Knauss et al., 2017]. Simulation-based testing has recently gotten more\\nattentionbecauseofitsabilitytoevaluatetheHAVsinproblematicscenarios[Waymo,\\n2020]. However, it is impossible at this stage to conduct safety certification based on', metadata={'page': 60, 'source': 'pdfs/Thesis_modified.pdf'})]}\n"
     ]
    }
   ],
   "source": [
    "print(result)"
   ]
  },
  {
   "cell_type": "code",
   "execution_count": null,
   "id": "8279b0e6-d678-4817-b0f0-83b1deef12ed",
   "metadata": {},
   "outputs": [],
   "source": []
  }
 ],
 "metadata": {
  "kernelspec": {
   "display_name": "Python 3 (ipykernel)",
   "language": "python",
   "name": "python3"
  },
  "language_info": {
   "codemirror_mode": {
    "name": "ipython",
    "version": 3
   },
   "file_extension": ".py",
   "mimetype": "text/x-python",
   "name": "python",
   "nbconvert_exporter": "python",
   "pygments_lexer": "ipython3",
   "version": "3.11.4"
  }
 },
 "nbformat": 4,
 "nbformat_minor": 5
}
